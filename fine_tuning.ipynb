{
 "cells": [
  {
   "cell_type": "markdown",
   "metadata": {},
   "source": [
    "## Preparando o Ambiente"
   ]
  },
  {
   "cell_type": "code",
   "execution_count": 3,
   "metadata": {},
   "outputs": [],
   "source": [
    "from transformers import AutoModelForCausalLM, AutoTokenizer"
   ]
  },
  {
   "cell_type": "code",
   "execution_count": 13,
   "metadata": {},
   "outputs": [],
   "source": [
    "import os\n",
    "from dataclasses import dataclass, field\n",
    "from typing import Optional\n",
    "\n",
    "import torch\n",
    "from datasets import load_dataset\n",
    "from datasets import load_from_disk\n",
    "from peft import LoraConfig, prepare_model_for_kbit_training\n",
    "from transformers import (\n",
    "    AutoModelForCausalLM,\n",
    "    AutoTokenizer,\n",
    "    BitsAndBytesConfig,\n",
    "    HfArgumentParser,\n",
    "    AutoTokenizer,\n",
    "    TrainingArguments,\n",
    ")\n",
    "from tqdm.notebook import tqdm\n",
    "\n",
    "#from trl import SFTTrainer # Problema ao importar essa biblioteca"
   ]
  },
  {
   "cell_type": "code",
   "execution_count": 32,
   "metadata": {},
   "outputs": [
    {
     "ename": "ImportError",
     "evalue": "cannot import name 'top_k_top_p_filtering' from 'transformers' (d:\\PROJETOS LLM\\Microsoft PHI_3 LLM\\.venv\\Lib\\site-packages\\transformers\\__init__.py)",
     "output_type": "error",
     "traceback": [
      "\u001b[1;31m---------------------------------------------------------------------------\u001b[0m",
      "\u001b[1;31mImportError\u001b[0m                               Traceback (most recent call last)",
      "Cell \u001b[1;32mIn[32], line 1\u001b[0m\n\u001b[1;32m----> 1\u001b[0m \u001b[38;5;28;01mfrom\u001b[39;00m \u001b[38;5;21;01mtrl\u001b[39;00m \u001b[38;5;28;01mimport\u001b[39;00m SFTTrainer\n",
      "File \u001b[1;32md:\\PROJETOS LLM\\Microsoft PHI_3 LLM\\.venv\\Lib\\site-packages\\trl\\__init__.py:5\u001b[0m\n\u001b[0;32m      1\u001b[0m \u001b[38;5;66;03m# flake8: noqa\u001b[39;00m\n\u001b[0;32m      3\u001b[0m __version__ \u001b[38;5;241m=\u001b[39m \u001b[38;5;124m\"\u001b[39m\u001b[38;5;124m0.4.7\u001b[39m\u001b[38;5;124m\"\u001b[39m\n\u001b[1;32m----> 5\u001b[0m \u001b[38;5;28;01mfrom\u001b[39;00m \u001b[38;5;21;01m.\u001b[39;00m\u001b[38;5;21;01mcore\u001b[39;00m \u001b[38;5;28;01mimport\u001b[39;00m set_seed\n\u001b[0;32m      6\u001b[0m \u001b[38;5;28;01mfrom\u001b[39;00m \u001b[38;5;21;01m.\u001b[39;00m\u001b[38;5;21;01mextras\u001b[39;00m \u001b[38;5;28;01mimport\u001b[39;00m BestOfNSampler\n\u001b[0;32m      7\u001b[0m \u001b[38;5;28;01mfrom\u001b[39;00m \u001b[38;5;21;01m.\u001b[39;00m\u001b[38;5;21;01mimport_utils\u001b[39;00m \u001b[38;5;28;01mimport\u001b[39;00m is_peft_available\n",
      "File \u001b[1;32md:\\PROJETOS LLM\\Microsoft PHI_3 LLM\\.venv\\Lib\\site-packages\\trl\\core.py:23\u001b[0m\n\u001b[0;32m     21\u001b[0m \u001b[38;5;28;01mimport\u001b[39;00m \u001b[38;5;21;01mtorch\u001b[39;00m\u001b[38;5;21;01m.\u001b[39;00m\u001b[38;5;21;01mnn\u001b[39;00m\u001b[38;5;21;01m.\u001b[39;00m\u001b[38;5;21;01mfunctional\u001b[39;00m \u001b[38;5;28;01mas\u001b[39;00m \u001b[38;5;21;01mF\u001b[39;00m\n\u001b[0;32m     22\u001b[0m \u001b[38;5;28;01mfrom\u001b[39;00m \u001b[38;5;21;01mtorch\u001b[39;00m\u001b[38;5;21;01m.\u001b[39;00m\u001b[38;5;21;01mnn\u001b[39;00m\u001b[38;5;21;01m.\u001b[39;00m\u001b[38;5;21;01mutils\u001b[39;00m\u001b[38;5;21;01m.\u001b[39;00m\u001b[38;5;21;01mrnn\u001b[39;00m \u001b[38;5;28;01mimport\u001b[39;00m pad_sequence\n\u001b[1;32m---> 23\u001b[0m \u001b[38;5;28;01mfrom\u001b[39;00m \u001b[38;5;21;01mtransformers\u001b[39;00m \u001b[38;5;28;01mimport\u001b[39;00m top_k_top_p_filtering\n\u001b[0;32m     26\u001b[0m \u001b[38;5;28;01mtry\u001b[39;00m:\n\u001b[0;32m     27\u001b[0m     \u001b[38;5;28;01mfrom\u001b[39;00m \u001b[38;5;21;01mcollections\u001b[39;00m\u001b[38;5;21;01m.\u001b[39;00m\u001b[38;5;21;01mabc\u001b[39;00m \u001b[38;5;28;01mimport\u001b[39;00m Mapping\n",
      "\u001b[1;31mImportError\u001b[0m: cannot import name 'top_k_top_p_filtering' from 'transformers' (d:\\PROJETOS LLM\\Microsoft PHI_3 LLM\\.venv\\Lib\\site-packages\\transformers\\__init__.py)"
     ]
    }
   ],
   "source": [
    "from trl import SFTTrainer"
   ]
  },
  {
   "cell_type": "code",
   "execution_count": 15,
   "metadata": {},
   "outputs": [
    {
     "name": "stdout",
     "output_type": "stream",
     "text": [
      "\n",
      "    _|    _|  _|    _|    _|_|_|    _|_|_|  _|_|_|  _|      _|    _|_|_|      _|_|_|_|    _|_|      _|_|_|  _|_|_|_|\n",
      "    _|    _|  _|    _|  _|        _|          _|    _|_|    _|  _|            _|        _|    _|  _|        _|\n",
      "    _|_|_|_|  _|    _|  _|  _|_|  _|  _|_|    _|    _|  _|  _|  _|  _|_|      _|_|_|    _|_|_|_|  _|        _|_|_|\n",
      "    _|    _|  _|    _|  _|    _|  _|    _|    _|    _|    _|_|  _|    _|      _|        _|    _|  _|        _|\n",
      "    _|    _|    _|_|      _|_|_|    _|_|_|  _|_|_|  _|      _|    _|_|_|      _|        _|    _|    _|_|_|  _|_|_|_|\n",
      "\n",
      "    A token is already saved on your machine. Run `huggingface-cli whoami` to get more information or `huggingface-cli logout` if you want to log out.\n",
      "    Setting a new token will erase the existing one.\n",
      "    To login, `huggingface_hub` requires a token generated from https://huggingface.co/settings/tokens .\n",
      "Token can be pasted using 'Right-Click'.\n",
      "Token is valid (permission: write).\n",
      "Your token has been saved in your configured git credential helpers (manager).\n",
      "Your token has been saved to C:\\Users\\hreze\\.cache\\huggingface\\token\n",
      "Login successful\n"
     ]
    }
   ],
   "source": [
    "from huggingface_hub import interpreter_login\n",
    "interpreter_login()"
   ]
  },
  {
   "cell_type": "markdown",
   "metadata": {},
   "source": [
    "## Criação do Dataset de Ajuste"
   ]
  },
  {
   "cell_type": "code",
   "execution_count": 19,
   "metadata": {},
   "outputs": [
    {
     "data": {
      "text/html": [
       "<div>\n",
       "<style scoped>\n",
       "    .dataframe tbody tr th:only-of-type {\n",
       "        vertical-align: middle;\n",
       "    }\n",
       "\n",
       "    .dataframe tbody tr th {\n",
       "        vertical-align: top;\n",
       "    }\n",
       "\n",
       "    .dataframe thead th {\n",
       "        text-align: right;\n",
       "    }\n",
       "</style>\n",
       "<table border=\"1\" class=\"dataframe\">\n",
       "  <thead>\n",
       "    <tr style=\"text-align: right;\">\n",
       "      <th></th>\n",
       "      <th>Instrução</th>\n",
       "      <th>Saída</th>\n",
       "    </tr>\n",
       "  </thead>\n",
       "  <tbody>\n",
       "    <tr>\n",
       "      <th>0</th>\n",
       "      <td>Qual é a composição de Vi-Ferrin® solução oral...</td>\n",
       "      <td>Cada 1 mL de Vi-Ferrin® solução oral gotas con...</td>\n",
       "    </tr>\n",
       "    <tr>\n",
       "      <th>1</th>\n",
       "      <td>Como deve ser armazenado o Vi-Ferrin®?</td>\n",
       "      <td>Vi-Ferrin® deve ser conservado em temperatura ...</td>\n",
       "    </tr>\n",
       "  </tbody>\n",
       "</table>\n",
       "</div>"
      ],
      "text/plain": [
       "                                           Instrução  \\\n",
       "0  Qual é a composição de Vi-Ferrin® solução oral...   \n",
       "1             Como deve ser armazenado o Vi-Ferrin®?   \n",
       "\n",
       "                                               Saída  \n",
       "0  Cada 1 mL de Vi-Ferrin® solução oral gotas con...  \n",
       "1  Vi-Ferrin® deve ser conservado em temperatura ...  "
      ]
     },
     "execution_count": 19,
     "metadata": {},
     "output_type": "execute_result"
    }
   ],
   "source": [
    "import pandas as pd\n",
    "\n",
    "# Dados em formato de dicionário\n",
    "data = {\n",
    "    \"Instrução\": [\n",
    "        \"Qual é a composição de Vi-Ferrin® solução oral gotas por mililitro?\",\n",
    "        \"Como deve ser armazenado o Vi-Ferrin®?\",\n",
    "        \"Para que condições médicas o Vi-Ferrin® é indicado?\",\n",
    "        \"Vi-Ferrin® solução oral é indicado para quais grupos etários?\",\n",
    "        \"Quais são as principais interações medicamentosas que afetam a absorção do ferro em Vi-Ferrin®?\",\n",
    "        \"Quais precauções devem ser consideradas ao usar Vi-Ferrin® durante a gravidez?\",\n",
    "        \"Como Vi-Ferrin® funciona no tratamento da anemia?\",\n",
    "        \"Quais são as contraindicações para o uso de Vi-Ferrin®?\",\n",
    "        \"Quais efeitos adversos são comuns com o uso de Vi-Ferrin®?\",\n",
    "        \"O que fazer em caso de superdose de Vi-Ferrin®?\",\n",
    "        \"Quais instruções de uso são específicas para Vi-Ferrin® solução oral gotas para lactentes?\",\n",
    "        \"Como deve ser utilizado o Vi-Ferrin® solução oral para crianças acima de 20 kg?\",\n",
    "        \"Existem recomendações específicas para a administração de Vi-Ferrin® para adultos?\",\n",
    "        \"Como o Vi-Ferrin® deve ser administrado para crianças até 20 kg?\",\n",
    "        \"Quais interações medicamento-substância química são importantes para usuários de Vi-Ferrin®?\",\n",
    "        \"Como as interações medicamento-exame laboratorial afetam os resultados dos testes?\",\n",
    "        \"Quais cuidados especiais são necessários para pacientes com condições particulares ao usar Vi-Ferrin®?\",\n",
    "        \"Quais são as características organolépticas de Vi-Ferrin® solução oral?\",\n",
    "        \"Como deve ser feita a administração de Vi-Ferrin® solução oral gotas?\",\n",
    "        \"O que fazer se esquecer uma dose de Vi-Ferrin®?\"\n",
    "    ],\n",
    "    \"Saída\": [\n",
    "        \"Cada 1 mL de Vi-Ferrin® solução oral gotas contém 150 mg de quelato de ferro, 0,25 mg de ácido fólico e 7,5 mcg de cianocobalamina, além de excipientes como sacarina, hidróxido de sódio, propilenoglicol, metilparabeno, propilparabeno, essência de laranja e água de osmose reversa.\",\n",
    "        \"Vi-Ferrin® deve ser conservado em temperatura ambiente, entre 15°C e 30ºC, protegido da luz e umidade.\",\n",
    "        \"Vi-Ferrin® é indicado para o tratamento de anemias por deficiência de ferro, estados de desnutrição e convalescença.\",\n",
    "        \"Vi-Ferrin® solução oral é indicado para uso adulto e pediátrico.\",\n",
    "        \"Medicamentos como fluoroquinolonas (norfloxacino e ciprofloxacino), tetraciclinas (oxitetraciclina e doxiciclina), fenitoína, antiácidos (hidróxido de alumínio e magnésio) e colestiramina podem diminuir a absorção do ferro. O ácido ascórbico, por outro lado, aumenta a absorção do ferro, mas também aumenta os efeitos adversos.\",\n",
    "        \"Vi-Ferrin® não deve ser utilizado por mulheres grávidas sem orientação médica ou do cirurgião-dentista.\",\n",
    "        \"Vi-Ferrin® contém ferro, que é essencial para combater a anemia. O ácido fólico presente ajuda na transformação e composição de aminoácidos, enquanto a cianocobalamina desempenha um papel crucial na formação do DNA.\",\n",
    "        \"Vi-Ferrin® não deve ser usado em casos de hipersensibilidade aos componentes da fórmula, em situações de transfusões de sangue repetidas ou em casos de anemia não causada por deficiência de ferro.\",\n",
    "        \"Os efeitos adversos comuns incluem dor abdominal, constipação, náusea, vômito, e fezes escuras. Em doses elevadas, o uso oral de ácido fólico pode causar coloração amarela na urina.\",\n",
    "        \"Em caso de superdose, os sintomas incluem dor abdominal, diarreia, vômitos com conteúdo gástrico marrom ou sanguinolento, e sintomas mais graves como palidez, cansaço, e sonolência. Deve ser procurado socorro médico imediatamente e, se possível, induzir o vômito se a ingestão for recente.\",\n",
    "        \"Para lactentes e crianças de até 1 ano de idade, deve-se administrar 1 gota (0,05 mL) por kg de peso ao dia de Vi-Ferrin® solução oral gotas.\",\n",
    "        \"Crianças acima de 20 kg devem tomar 15 mL de Vi-Ferrin® solução oral uma vez ao dia, preferencialmente antes da principal refeição.\",\n",
    "        \"Adultos devem tomar 15 mL de Vi-Ferrin® solução oral, duas vezes ao dia, preferencialmente antes das refeições.\",\n",
    "        \"Crianças até 20 kg devem tomar 5 mL de Vi-Ferrin® solução oral, duas vezes ao dia, preferencialmente antes das refeições.\",\n",
    "        \"O consumo de bebidas alcoólicas pode prejudicar a eficácia do tratamento com Vi-Ferrin®, afetando a absorção de seus componentes.\",\n",
    "        \"Antibióticos podem interferir com ensaios microbiológicos para determinar as concentrações de ácido fólico, produzindo resultados falsamente baixos. A administração de ácido fólico pode normalizar a contagem sanguínea em pacientes com deficiência de vitamina B12, mascarando a melhora da anemia.\",\n",
    "        \"Pacientes com anemia perniciosa, artrite reumatoide, insuficiência renal crônica, redução da função hepática, doença de Hodgkin, úlcera péptica, enterite regional, colite ulcerativa, estreitamento intestinal ou diverticulose devem consultar um médico antes de usar Vi-Ferrin® devido ao risco de problemas neurológicos e outras complicações.\",\n",
    "        \"Vi-Ferrin® solução oral é um líquido límpido de cor vermelho escuro a castanho avermelhado com odor de laranja.\",\n",
    "        \"Para administrar Vi-Ferrin® solução oral gotas, o frasco deve ser virado e mantido na posição vertical. Para iniciar o gotejamento, bater levemente com o dedo no fundo do frasco.\",\n",
    "        \"Se esquecer de tomar uma dose de Vi-Ferrin®, continue o tratamento como recomendado, pulando a dose esquecida. Não duplique a dose seguinte.\"\n",
    "    ]\n",
    "}\n",
    "\n",
    "# Criando o DataFrame\n",
    "df = pd.DataFrame(data)\n",
    "\n",
    "# Mostrando o DataFrame\n",
    "df.head(2)"
   ]
  },
  {
   "cell_type": "code",
   "execution_count": 20,
   "metadata": {},
   "outputs": [
    {
     "data": {
      "text/plain": [
       "Index(['Instrução', 'Saída'], dtype='object')"
      ]
     },
     "execution_count": 20,
     "metadata": {},
     "output_type": "execute_result"
    }
   ],
   "source": [
    "df.columns"
   ]
  },
  {
   "cell_type": "code",
   "execution_count": 21,
   "metadata": {},
   "outputs": [
    {
     "data": {
      "text/plain": [
       "0     [INST] Qual é a composição de Vi-Ferrin® soluç...\n",
       "1     [INST] Como deve ser armazenado o Vi-Ferrin®? ...\n",
       "2     [INST] Para que condições médicas o Vi-Ferrin®...\n",
       "3     [INST] Vi-Ferrin® solução oral é indicado para...\n",
       "4     [INST] Quais são as principais interações medi...\n",
       "5     [INST] Quais precauções devem ser consideradas...\n",
       "6     [INST] Como Vi-Ferrin® funciona no tratamento ...\n",
       "7     [INST] Quais são as contraindicações para o us...\n",
       "8     [INST] Quais efeitos adversos são comuns com o...\n",
       "9     [INST] O que fazer em caso de superdose de Vi-...\n",
       "10    [INST] Quais instruções de uso são específicas...\n",
       "11    [INST] Como deve ser utilizado o Vi-Ferrin® so...\n",
       "12    [INST] Existem recomendações específicas para ...\n",
       "13    [INST] Como o Vi-Ferrin® deve ser administrado...\n",
       "14    [INST] Quais interações medicamento-substância...\n",
       "15    [INST] Como as interações medicamento-exame la...\n",
       "16    [INST] Quais cuidados especiais são necessário...\n",
       "17    [INST] Quais são as características organolépt...\n",
       "18    [INST] Como deve ser feita a administração de ...\n",
       "19    [INST] O que fazer se esquecer uma dose de Vi-...\n",
       "Name: Formatted, dtype: object"
      ]
     },
     "execution_count": 21,
     "metadata": {},
     "output_type": "execute_result"
    }
   ],
   "source": [
    "# Function to transform the row into desired format\n",
    "def format_row(row):\n",
    "    question = row['Instrução']\n",
    "    answer = row['Saída']\n",
    "    formatted_string = f\"[INST] {question} [/INST] {answer} \"\n",
    "    return formatted_string\n",
    "\n",
    "# Apply the function to each row of the dataframe\n",
    "df['Formatted'] = df.apply(format_row, axis=1)\n",
    "\n",
    "# Display the formatted column\n",
    "df['Formatted']"
   ]
  },
  {
   "cell_type": "code",
   "execution_count": 22,
   "metadata": {},
   "outputs": [
    {
     "data": {
      "text/html": [
       "<div>\n",
       "<style scoped>\n",
       "    .dataframe tbody tr th:only-of-type {\n",
       "        vertical-align: middle;\n",
       "    }\n",
       "\n",
       "    .dataframe tbody tr th {\n",
       "        vertical-align: top;\n",
       "    }\n",
       "\n",
       "    .dataframe thead th {\n",
       "        text-align: right;\n",
       "    }\n",
       "</style>\n",
       "<table border=\"1\" class=\"dataframe\">\n",
       "  <thead>\n",
       "    <tr style=\"text-align: right;\">\n",
       "      <th></th>\n",
       "      <th>Instrução</th>\n",
       "      <th>Saída</th>\n",
       "      <th>Text</th>\n",
       "    </tr>\n",
       "  </thead>\n",
       "  <tbody>\n",
       "    <tr>\n",
       "      <th>0</th>\n",
       "      <td>Qual é a composição de Vi-Ferrin® solução oral...</td>\n",
       "      <td>Cada 1 mL de Vi-Ferrin® solução oral gotas con...</td>\n",
       "      <td>[INST] Qual é a composição de Vi-Ferrin® soluç...</td>\n",
       "    </tr>\n",
       "    <tr>\n",
       "      <th>1</th>\n",
       "      <td>Como deve ser armazenado o Vi-Ferrin®?</td>\n",
       "      <td>Vi-Ferrin® deve ser conservado em temperatura ...</td>\n",
       "      <td>[INST] Como deve ser armazenado o Vi-Ferrin®? ...</td>\n",
       "    </tr>\n",
       "    <tr>\n",
       "      <th>2</th>\n",
       "      <td>Para que condições médicas o Vi-Ferrin® é indi...</td>\n",
       "      <td>Vi-Ferrin® é indicado para o tratamento de ane...</td>\n",
       "      <td>[INST] Para que condições médicas o Vi-Ferrin®...</td>\n",
       "    </tr>\n",
       "    <tr>\n",
       "      <th>3</th>\n",
       "      <td>Vi-Ferrin® solução oral é indicado para quais ...</td>\n",
       "      <td>Vi-Ferrin® solução oral é indicado para uso ad...</td>\n",
       "      <td>[INST] Vi-Ferrin® solução oral é indicado para...</td>\n",
       "    </tr>\n",
       "    <tr>\n",
       "      <th>4</th>\n",
       "      <td>Quais são as principais interações medicamento...</td>\n",
       "      <td>Medicamentos como fluoroquinolonas (norfloxaci...</td>\n",
       "      <td>[INST] Quais são as principais interações medi...</td>\n",
       "    </tr>\n",
       "    <tr>\n",
       "      <th>5</th>\n",
       "      <td>Quais precauções devem ser consideradas ao usa...</td>\n",
       "      <td>Vi-Ferrin® não deve ser utilizado por mulheres...</td>\n",
       "      <td>[INST] Quais precauções devem ser consideradas...</td>\n",
       "    </tr>\n",
       "    <tr>\n",
       "      <th>6</th>\n",
       "      <td>Como Vi-Ferrin® funciona no tratamento da anemia?</td>\n",
       "      <td>Vi-Ferrin® contém ferro, que é essencial para ...</td>\n",
       "      <td>[INST] Como Vi-Ferrin® funciona no tratamento ...</td>\n",
       "    </tr>\n",
       "    <tr>\n",
       "      <th>7</th>\n",
       "      <td>Quais são as contraindicações para o uso de Vi...</td>\n",
       "      <td>Vi-Ferrin® não deve ser usado em casos de hipe...</td>\n",
       "      <td>[INST] Quais são as contraindicações para o us...</td>\n",
       "    </tr>\n",
       "    <tr>\n",
       "      <th>8</th>\n",
       "      <td>Quais efeitos adversos são comuns com o uso de...</td>\n",
       "      <td>Os efeitos adversos comuns incluem dor abdomin...</td>\n",
       "      <td>[INST] Quais efeitos adversos são comuns com o...</td>\n",
       "    </tr>\n",
       "    <tr>\n",
       "      <th>9</th>\n",
       "      <td>O que fazer em caso de superdose de Vi-Ferrin®?</td>\n",
       "      <td>Em caso de superdose, os sintomas incluem dor ...</td>\n",
       "      <td>[INST] O que fazer em caso de superdose de Vi-...</td>\n",
       "    </tr>\n",
       "    <tr>\n",
       "      <th>10</th>\n",
       "      <td>Quais instruções de uso são específicas para V...</td>\n",
       "      <td>Para lactentes e crianças de até 1 ano de idad...</td>\n",
       "      <td>[INST] Quais instruções de uso são específicas...</td>\n",
       "    </tr>\n",
       "    <tr>\n",
       "      <th>11</th>\n",
       "      <td>Como deve ser utilizado o Vi-Ferrin® solução o...</td>\n",
       "      <td>Crianças acima de 20 kg devem tomar 15 mL de V...</td>\n",
       "      <td>[INST] Como deve ser utilizado o Vi-Ferrin® so...</td>\n",
       "    </tr>\n",
       "    <tr>\n",
       "      <th>12</th>\n",
       "      <td>Existem recomendações específicas para a admin...</td>\n",
       "      <td>Adultos devem tomar 15 mL de Vi-Ferrin® soluçã...</td>\n",
       "      <td>[INST] Existem recomendações específicas para ...</td>\n",
       "    </tr>\n",
       "    <tr>\n",
       "      <th>13</th>\n",
       "      <td>Como o Vi-Ferrin® deve ser administrado para c...</td>\n",
       "      <td>Crianças até 20 kg devem tomar 5 mL de Vi-Ferr...</td>\n",
       "      <td>[INST] Como o Vi-Ferrin® deve ser administrado...</td>\n",
       "    </tr>\n",
       "    <tr>\n",
       "      <th>14</th>\n",
       "      <td>Quais interações medicamento-substância químic...</td>\n",
       "      <td>O consumo de bebidas alcoólicas pode prejudica...</td>\n",
       "      <td>[INST] Quais interações medicamento-substância...</td>\n",
       "    </tr>\n",
       "    <tr>\n",
       "      <th>15</th>\n",
       "      <td>Como as interações medicamento-exame laborator...</td>\n",
       "      <td>Antibióticos podem interferir com ensaios micr...</td>\n",
       "      <td>[INST] Como as interações medicamento-exame la...</td>\n",
       "    </tr>\n",
       "    <tr>\n",
       "      <th>16</th>\n",
       "      <td>Quais cuidados especiais são necessários para ...</td>\n",
       "      <td>Pacientes com anemia perniciosa, artrite reuma...</td>\n",
       "      <td>[INST] Quais cuidados especiais são necessário...</td>\n",
       "    </tr>\n",
       "    <tr>\n",
       "      <th>17</th>\n",
       "      <td>Quais são as características organolépticas de...</td>\n",
       "      <td>Vi-Ferrin® solução oral é um líquido límpido d...</td>\n",
       "      <td>[INST] Quais são as características organolépt...</td>\n",
       "    </tr>\n",
       "    <tr>\n",
       "      <th>18</th>\n",
       "      <td>Como deve ser feita a administração de Vi-Ferr...</td>\n",
       "      <td>Para administrar Vi-Ferrin® solução oral gotas...</td>\n",
       "      <td>[INST] Como deve ser feita a administração de ...</td>\n",
       "    </tr>\n",
       "    <tr>\n",
       "      <th>19</th>\n",
       "      <td>O que fazer se esquecer uma dose de Vi-Ferrin®?</td>\n",
       "      <td>Se esquecer de tomar uma dose de Vi-Ferrin®, c...</td>\n",
       "      <td>[INST] O que fazer se esquecer uma dose de Vi-...</td>\n",
       "    </tr>\n",
       "  </tbody>\n",
       "</table>\n",
       "</div>"
      ],
      "text/plain": [
       "                                            Instrução  \\\n",
       "0   Qual é a composição de Vi-Ferrin® solução oral...   \n",
       "1              Como deve ser armazenado o Vi-Ferrin®?   \n",
       "2   Para que condições médicas o Vi-Ferrin® é indi...   \n",
       "3   Vi-Ferrin® solução oral é indicado para quais ...   \n",
       "4   Quais são as principais interações medicamento...   \n",
       "5   Quais precauções devem ser consideradas ao usa...   \n",
       "6   Como Vi-Ferrin® funciona no tratamento da anemia?   \n",
       "7   Quais são as contraindicações para o uso de Vi...   \n",
       "8   Quais efeitos adversos são comuns com o uso de...   \n",
       "9     O que fazer em caso de superdose de Vi-Ferrin®?   \n",
       "10  Quais instruções de uso são específicas para V...   \n",
       "11  Como deve ser utilizado o Vi-Ferrin® solução o...   \n",
       "12  Existem recomendações específicas para a admin...   \n",
       "13  Como o Vi-Ferrin® deve ser administrado para c...   \n",
       "14  Quais interações medicamento-substância químic...   \n",
       "15  Como as interações medicamento-exame laborator...   \n",
       "16  Quais cuidados especiais são necessários para ...   \n",
       "17  Quais são as características organolépticas de...   \n",
       "18  Como deve ser feita a administração de Vi-Ferr...   \n",
       "19    O que fazer se esquecer uma dose de Vi-Ferrin®?   \n",
       "\n",
       "                                                Saída  \\\n",
       "0   Cada 1 mL de Vi-Ferrin® solução oral gotas con...   \n",
       "1   Vi-Ferrin® deve ser conservado em temperatura ...   \n",
       "2   Vi-Ferrin® é indicado para o tratamento de ane...   \n",
       "3   Vi-Ferrin® solução oral é indicado para uso ad...   \n",
       "4   Medicamentos como fluoroquinolonas (norfloxaci...   \n",
       "5   Vi-Ferrin® não deve ser utilizado por mulheres...   \n",
       "6   Vi-Ferrin® contém ferro, que é essencial para ...   \n",
       "7   Vi-Ferrin® não deve ser usado em casos de hipe...   \n",
       "8   Os efeitos adversos comuns incluem dor abdomin...   \n",
       "9   Em caso de superdose, os sintomas incluem dor ...   \n",
       "10  Para lactentes e crianças de até 1 ano de idad...   \n",
       "11  Crianças acima de 20 kg devem tomar 15 mL de V...   \n",
       "12  Adultos devem tomar 15 mL de Vi-Ferrin® soluçã...   \n",
       "13  Crianças até 20 kg devem tomar 5 mL de Vi-Ferr...   \n",
       "14  O consumo de bebidas alcoólicas pode prejudica...   \n",
       "15  Antibióticos podem interferir com ensaios micr...   \n",
       "16  Pacientes com anemia perniciosa, artrite reuma...   \n",
       "17  Vi-Ferrin® solução oral é um líquido límpido d...   \n",
       "18  Para administrar Vi-Ferrin® solução oral gotas...   \n",
       "19  Se esquecer de tomar uma dose de Vi-Ferrin®, c...   \n",
       "\n",
       "                                                 Text  \n",
       "0   [INST] Qual é a composição de Vi-Ferrin® soluç...  \n",
       "1   [INST] Como deve ser armazenado o Vi-Ferrin®? ...  \n",
       "2   [INST] Para que condições médicas o Vi-Ferrin®...  \n",
       "3   [INST] Vi-Ferrin® solução oral é indicado para...  \n",
       "4   [INST] Quais são as principais interações medi...  \n",
       "5   [INST] Quais precauções devem ser consideradas...  \n",
       "6   [INST] Como Vi-Ferrin® funciona no tratamento ...  \n",
       "7   [INST] Quais são as contraindicações para o us...  \n",
       "8   [INST] Quais efeitos adversos são comuns com o...  \n",
       "9   [INST] O que fazer em caso de superdose de Vi-...  \n",
       "10  [INST] Quais instruções de uso são específicas...  \n",
       "11  [INST] Como deve ser utilizado o Vi-Ferrin® so...  \n",
       "12  [INST] Existem recomendações específicas para ...  \n",
       "13  [INST] Como o Vi-Ferrin® deve ser administrado...  \n",
       "14  [INST] Quais interações medicamento-substância...  \n",
       "15  [INST] Como as interações medicamento-exame la...  \n",
       "16  [INST] Quais cuidados especiais são necessário...  \n",
       "17  [INST] Quais são as características organolépt...  \n",
       "18  [INST] Como deve ser feita a administração de ...  \n",
       "19  [INST] O que fazer se esquecer uma dose de Vi-...  "
      ]
     },
     "execution_count": 22,
     "metadata": {},
     "output_type": "execute_result"
    }
   ],
   "source": [
    "# Rename the 'Formatted' column to 'Text'\n",
    "new_df = df.rename(columns={'Formatted': 'Text'})\n",
    "\n",
    "new_df"
   ]
  },
  {
   "cell_type": "code",
   "execution_count": 23,
   "metadata": {},
   "outputs": [
    {
     "data": {
      "text/html": [
       "<div>\n",
       "<style scoped>\n",
       "    .dataframe tbody tr th:only-of-type {\n",
       "        vertical-align: middle;\n",
       "    }\n",
       "\n",
       "    .dataframe tbody tr th {\n",
       "        vertical-align: top;\n",
       "    }\n",
       "\n",
       "    .dataframe thead th {\n",
       "        text-align: right;\n",
       "    }\n",
       "</style>\n",
       "<table border=\"1\" class=\"dataframe\">\n",
       "  <thead>\n",
       "    <tr style=\"text-align: right;\">\n",
       "      <th></th>\n",
       "      <th>Text</th>\n",
       "    </tr>\n",
       "  </thead>\n",
       "  <tbody>\n",
       "    <tr>\n",
       "      <th>0</th>\n",
       "      <td>[INST] Qual é a composição de Vi-Ferrin® soluç...</td>\n",
       "    </tr>\n",
       "    <tr>\n",
       "      <th>1</th>\n",
       "      <td>[INST] Como deve ser armazenado o Vi-Ferrin®? ...</td>\n",
       "    </tr>\n",
       "    <tr>\n",
       "      <th>2</th>\n",
       "      <td>[INST] Para que condições médicas o Vi-Ferrin®...</td>\n",
       "    </tr>\n",
       "    <tr>\n",
       "      <th>3</th>\n",
       "      <td>[INST] Vi-Ferrin® solução oral é indicado para...</td>\n",
       "    </tr>\n",
       "    <tr>\n",
       "      <th>4</th>\n",
       "      <td>[INST] Quais são as principais interações medi...</td>\n",
       "    </tr>\n",
       "  </tbody>\n",
       "</table>\n",
       "</div>"
      ],
      "text/plain": [
       "                                                Text\n",
       "0  [INST] Qual é a composição de Vi-Ferrin® soluç...\n",
       "1  [INST] Como deve ser armazenado o Vi-Ferrin®? ...\n",
       "2  [INST] Para que condições médicas o Vi-Ferrin®...\n",
       "3  [INST] Vi-Ferrin® solução oral é indicado para...\n",
       "4  [INST] Quais são as principais interações medi..."
      ]
     },
     "execution_count": 23,
     "metadata": {},
     "output_type": "execute_result"
    }
   ],
   "source": [
    "new_df = new_df[['Text']]\n",
    "new_df.head(5)"
   ]
  },
  {
   "cell_type": "code",
   "execution_count": 24,
   "metadata": {},
   "outputs": [
    {
     "data": {
      "text/html": [
       "<div>\n",
       "<style scoped>\n",
       "    .dataframe tbody tr th:only-of-type {\n",
       "        vertical-align: middle;\n",
       "    }\n",
       "\n",
       "    .dataframe tbody tr th {\n",
       "        vertical-align: top;\n",
       "    }\n",
       "\n",
       "    .dataframe thead th {\n",
       "        text-align: right;\n",
       "    }\n",
       "</style>\n",
       "<table border=\"1\" class=\"dataframe\">\n",
       "  <thead>\n",
       "    <tr style=\"text-align: right;\">\n",
       "      <th></th>\n",
       "      <th>Text</th>\n",
       "    </tr>\n",
       "  </thead>\n",
       "  <tbody>\n",
       "    <tr>\n",
       "      <th>0</th>\n",
       "      <td>[INST] Qual é a composição de Vi-Ferrin® soluç...</td>\n",
       "    </tr>\n",
       "    <tr>\n",
       "      <th>1</th>\n",
       "      <td>[INST] Como deve ser armazenado o Vi-Ferrin®? ...</td>\n",
       "    </tr>\n",
       "    <tr>\n",
       "      <th>2</th>\n",
       "      <td>[INST] Para que condições médicas o Vi-Ferrin®...</td>\n",
       "    </tr>\n",
       "  </tbody>\n",
       "</table>\n",
       "</div>"
      ],
      "text/plain": [
       "                                                Text\n",
       "0  [INST] Qual é a composição de Vi-Ferrin® soluç...\n",
       "1  [INST] Como deve ser armazenado o Vi-Ferrin®? ...\n",
       "2  [INST] Para que condições médicas o Vi-Ferrin®..."
      ]
     },
     "execution_count": 24,
     "metadata": {},
     "output_type": "execute_result"
    }
   ],
   "source": [
    "# If you want to save the new dataframe to a CSV file:\n",
    "new_df.to_csv('formatted_data.csv', index=False)\n",
    "final_df = pd.read_csv(\"formatted_data.csv\")\n",
    "final_df.head(3)"
   ]
  },
  {
   "cell_type": "code",
   "execution_count": 25,
   "metadata": {},
   "outputs": [
    {
     "data": {
      "application/vnd.jupyter.widget-view+json": {
       "model_id": "787c605c12f1437c904d261240db206e",
       "version_major": 2,
       "version_minor": 0
      },
      "text/plain": [
       "Generating train split: 0 examples [00:00, ? examples/s]"
      ]
     },
     "metadata": {},
     "output_type": "display_data"
    }
   ],
   "source": [
    "training_dataset = load_dataset(\"csv\", data_files=\"formatted_data.csv\", split=\"train\")"
   ]
  },
  {
   "cell_type": "code",
   "execution_count": 26,
   "metadata": {},
   "outputs": [
    {
     "data": {
      "text/plain": [
       "Dataset({\n",
       "    features: ['Text'],\n",
       "    num_rows: 20\n",
       "})"
      ]
     },
     "execution_count": 26,
     "metadata": {},
     "output_type": "execute_result"
    }
   ],
   "source": [
    "training_dataset"
   ]
  },
  {
   "cell_type": "markdown",
   "metadata": {},
   "source": [
    "## Ajuste do modelo"
   ]
  },
  {
   "cell_type": "code",
   "execution_count": 31,
   "metadata": {},
   "outputs": [
    {
     "name": "stderr",
     "output_type": "stream",
     "text": [
      "Special tokens have been added in the vocabulary, make sure the associated word embeddings are fine-tuned or trained.\n"
     ]
    },
    {
     "ename": "ImportError",
     "evalue": "Using `bitsandbytes` 8-bit quantization requires Accelerate: `pip install accelerate` and the latest version of bitsandbytes: `pip install -i https://pypi.org/simple/ bitsandbytes`",
     "output_type": "error",
     "traceback": [
      "\u001b[1;31m---------------------------------------------------------------------------\u001b[0m",
      "\u001b[1;31mImportError\u001b[0m                               Traceback (most recent call last)",
      "Cell \u001b[1;32mIn[31], line 15\u001b[0m\n\u001b[0;32m      6\u001b[0m tokenizer\u001b[38;5;241m.\u001b[39mpadding_side\u001b[38;5;241m=\u001b[39m\u001b[38;5;124m\"\u001b[39m\u001b[38;5;124mright\u001b[39m\u001b[38;5;124m\"\u001b[39m\n\u001b[0;32m      8\u001b[0m bnb_config \u001b[38;5;241m=\u001b[39m BitsAndBytesConfig(\n\u001b[0;32m      9\u001b[0m     load_in_4bit\u001b[38;5;241m=\u001b[39m\u001b[38;5;28;01mTrue\u001b[39;00m,\n\u001b[0;32m     10\u001b[0m     bnb_4bit_quant_type\u001b[38;5;241m=\u001b[39m\u001b[38;5;124m\"\u001b[39m\u001b[38;5;124mnf4\u001b[39m\u001b[38;5;124m\"\u001b[39m,\n\u001b[0;32m     11\u001b[0m     bnb_4bit_compute_dtype\u001b[38;5;241m=\u001b[39mtorch\u001b[38;5;241m.\u001b[39mfloat16,\n\u001b[0;32m     12\u001b[0m     bnb_4bit_use_double_quant\u001b[38;5;241m=\u001b[39m\u001b[38;5;28;01mFalse\u001b[39;00m,\n\u001b[0;32m     13\u001b[0m )\n\u001b[1;32m---> 15\u001b[0m model \u001b[38;5;241m=\u001b[39m \u001b[43mAutoModelForCausalLM\u001b[49m\u001b[38;5;241;43m.\u001b[39;49m\u001b[43mfrom_pretrained\u001b[49m\u001b[43m(\u001b[49m\n\u001b[0;32m     16\u001b[0m \u001b[43m    \u001b[49m\u001b[43mbase_model\u001b[49m\u001b[43m,\u001b[49m\n\u001b[0;32m     17\u001b[0m \u001b[43m    \u001b[49m\u001b[43mquantization_config\u001b[49m\u001b[38;5;241;43m=\u001b[39;49m\u001b[43mbnb_config\u001b[49m\u001b[43m,\u001b[49m\n\u001b[0;32m     18\u001b[0m \u001b[43m    \u001b[49m\u001b[38;5;66;43;03m# use_flash_attention_2=True, # Phi does not support yet.\u001b[39;49;00m\n\u001b[0;32m     19\u001b[0m \u001b[43m    \u001b[49m\u001b[43mtrust_remote_code\u001b[49m\u001b[38;5;241;43m=\u001b[39;49m\u001b[38;5;28;43;01mTrue\u001b[39;49;00m\u001b[43m,\u001b[49m\n\u001b[0;32m     20\u001b[0m \u001b[43m    \u001b[49m\u001b[43mflash_attn\u001b[49m\u001b[38;5;241;43m=\u001b[39;49m\u001b[38;5;28;43;01mTrue\u001b[39;49;00m\u001b[43m,\u001b[49m\n\u001b[0;32m     21\u001b[0m \u001b[43m    \u001b[49m\u001b[43mflash_rotary\u001b[49m\u001b[38;5;241;43m=\u001b[39;49m\u001b[38;5;28;43;01mTrue\u001b[39;49;00m\u001b[43m,\u001b[49m\n\u001b[0;32m     22\u001b[0m \u001b[43m    \u001b[49m\u001b[43mfused_dense\u001b[49m\u001b[38;5;241;43m=\u001b[39;49m\u001b[38;5;28;43;01mTrue\u001b[39;49;00m\u001b[43m,\u001b[49m\n\u001b[0;32m     23\u001b[0m \u001b[43m    \u001b[49m\u001b[43mlow_cpu_mem_usage\u001b[49m\u001b[38;5;241;43m=\u001b[39;49m\u001b[38;5;28;43;01mTrue\u001b[39;49;00m\u001b[43m,\u001b[49m\n\u001b[0;32m     24\u001b[0m \u001b[43m    \u001b[49m\u001b[43mdevice_map\u001b[49m\u001b[38;5;241;43m=\u001b[39;49m\u001b[43m{\u001b[49m\u001b[38;5;124;43m\"\u001b[39;49m\u001b[38;5;124;43m\"\u001b[39;49m\u001b[43m:\u001b[49m\u001b[43m \u001b[49m\u001b[38;5;241;43m0\u001b[39;49m\u001b[43m}\u001b[49m\u001b[43m,\u001b[49m\n\u001b[0;32m     25\u001b[0m \u001b[43m    \u001b[49m\u001b[43mrevision\u001b[49m\u001b[38;5;241;43m=\u001b[39;49m\u001b[38;5;124;43m\"\u001b[39;49m\u001b[38;5;124;43mrefs/pr/23\u001b[39;49m\u001b[38;5;124;43m\"\u001b[39;49m\u001b[43m,\u001b[49m\n\u001b[0;32m     26\u001b[0m \u001b[43m)\u001b[49m\n\u001b[0;32m     28\u001b[0m model\u001b[38;5;241m.\u001b[39mconfig\u001b[38;5;241m.\u001b[39muse_cache \u001b[38;5;241m=\u001b[39m \u001b[38;5;28;01mFalse\u001b[39;00m\n\u001b[0;32m     29\u001b[0m model\u001b[38;5;241m.\u001b[39mconfig\u001b[38;5;241m.\u001b[39mpretraining_tp \u001b[38;5;241m=\u001b[39m \u001b[38;5;241m1\u001b[39m\n",
      "File \u001b[1;32md:\\PROJETOS LLM\\Microsoft PHI_3 LLM\\.venv\\Lib\\site-packages\\transformers\\models\\auto\\auto_factory.py:558\u001b[0m, in \u001b[0;36m_BaseAutoModelClass.from_pretrained\u001b[1;34m(cls, pretrained_model_name_or_path, *model_args, **kwargs)\u001b[0m\n\u001b[0;32m    556\u001b[0m     \u001b[38;5;28;01melse\u001b[39;00m:\n\u001b[0;32m    557\u001b[0m         \u001b[38;5;28mcls\u001b[39m\u001b[38;5;241m.\u001b[39mregister(config\u001b[38;5;241m.\u001b[39m\u001b[38;5;18m__class__\u001b[39m, model_class, exist_ok\u001b[38;5;241m=\u001b[39m\u001b[38;5;28;01mTrue\u001b[39;00m)\n\u001b[1;32m--> 558\u001b[0m     \u001b[38;5;28;01mreturn\u001b[39;00m \u001b[43mmodel_class\u001b[49m\u001b[38;5;241;43m.\u001b[39;49m\u001b[43mfrom_pretrained\u001b[49m\u001b[43m(\u001b[49m\n\u001b[0;32m    559\u001b[0m \u001b[43m        \u001b[49m\u001b[43mpretrained_model_name_or_path\u001b[49m\u001b[43m,\u001b[49m\u001b[43m \u001b[49m\u001b[38;5;241;43m*\u001b[39;49m\u001b[43mmodel_args\u001b[49m\u001b[43m,\u001b[49m\u001b[43m \u001b[49m\u001b[43mconfig\u001b[49m\u001b[38;5;241;43m=\u001b[39;49m\u001b[43mconfig\u001b[49m\u001b[43m,\u001b[49m\u001b[43m \u001b[49m\u001b[38;5;241;43m*\u001b[39;49m\u001b[38;5;241;43m*\u001b[39;49m\u001b[43mhub_kwargs\u001b[49m\u001b[43m,\u001b[49m\u001b[43m \u001b[49m\u001b[38;5;241;43m*\u001b[39;49m\u001b[38;5;241;43m*\u001b[39;49m\u001b[43mkwargs\u001b[49m\n\u001b[0;32m    560\u001b[0m \u001b[43m    \u001b[49m\u001b[43m)\u001b[49m\n\u001b[0;32m    561\u001b[0m \u001b[38;5;28;01melif\u001b[39;00m \u001b[38;5;28mtype\u001b[39m(config) \u001b[38;5;129;01min\u001b[39;00m \u001b[38;5;28mcls\u001b[39m\u001b[38;5;241m.\u001b[39m_model_mapping\u001b[38;5;241m.\u001b[39mkeys():\n\u001b[0;32m    562\u001b[0m     model_class \u001b[38;5;241m=\u001b[39m _get_model_class(config, \u001b[38;5;28mcls\u001b[39m\u001b[38;5;241m.\u001b[39m_model_mapping)\n",
      "File \u001b[1;32md:\\PROJETOS LLM\\Microsoft PHI_3 LLM\\.venv\\Lib\\site-packages\\transformers\\modeling_utils.py:3165\u001b[0m, in \u001b[0;36mPreTrainedModel.from_pretrained\u001b[1;34m(cls, pretrained_model_name_or_path, config, cache_dir, ignore_mismatched_sizes, force_download, local_files_only, token, revision, use_safetensors, *model_args, **kwargs)\u001b[0m\n\u001b[0;32m   3162\u001b[0m     hf_quantizer \u001b[38;5;241m=\u001b[39m \u001b[38;5;28;01mNone\u001b[39;00m\n\u001b[0;32m   3164\u001b[0m \u001b[38;5;28;01mif\u001b[39;00m hf_quantizer \u001b[38;5;129;01mis\u001b[39;00m \u001b[38;5;129;01mnot\u001b[39;00m \u001b[38;5;28;01mNone\u001b[39;00m:\n\u001b[1;32m-> 3165\u001b[0m     \u001b[43mhf_quantizer\u001b[49m\u001b[38;5;241;43m.\u001b[39;49m\u001b[43mvalidate_environment\u001b[49m\u001b[43m(\u001b[49m\n\u001b[0;32m   3166\u001b[0m \u001b[43m        \u001b[49m\u001b[43mtorch_dtype\u001b[49m\u001b[38;5;241;43m=\u001b[39;49m\u001b[43mtorch_dtype\u001b[49m\u001b[43m,\u001b[49m\u001b[43m \u001b[49m\u001b[43mfrom_tf\u001b[49m\u001b[38;5;241;43m=\u001b[39;49m\u001b[43mfrom_tf\u001b[49m\u001b[43m,\u001b[49m\u001b[43m \u001b[49m\u001b[43mfrom_flax\u001b[49m\u001b[38;5;241;43m=\u001b[39;49m\u001b[43mfrom_flax\u001b[49m\u001b[43m,\u001b[49m\u001b[43m \u001b[49m\u001b[43mdevice_map\u001b[49m\u001b[38;5;241;43m=\u001b[39;49m\u001b[43mdevice_map\u001b[49m\n\u001b[0;32m   3167\u001b[0m \u001b[43m    \u001b[49m\u001b[43m)\u001b[49m\n\u001b[0;32m   3168\u001b[0m     torch_dtype \u001b[38;5;241m=\u001b[39m hf_quantizer\u001b[38;5;241m.\u001b[39mupdate_torch_dtype(torch_dtype)\n\u001b[0;32m   3169\u001b[0m     device_map \u001b[38;5;241m=\u001b[39m hf_quantizer\u001b[38;5;241m.\u001b[39mupdate_device_map(device_map)\n",
      "File \u001b[1;32md:\\PROJETOS LLM\\Microsoft PHI_3 LLM\\.venv\\Lib\\site-packages\\transformers\\quantizers\\quantizer_bnb_4bit.py:62\u001b[0m, in \u001b[0;36mBnb4BitHfQuantizer.validate_environment\u001b[1;34m(self, *args, **kwargs)\u001b[0m\n\u001b[0;32m     60\u001b[0m \u001b[38;5;28;01mdef\u001b[39;00m \u001b[38;5;21mvalidate_environment\u001b[39m(\u001b[38;5;28mself\u001b[39m, \u001b[38;5;241m*\u001b[39margs, \u001b[38;5;241m*\u001b[39m\u001b[38;5;241m*\u001b[39mkwargs):\n\u001b[0;32m     61\u001b[0m     \u001b[38;5;28;01mif\u001b[39;00m \u001b[38;5;129;01mnot\u001b[39;00m (is_accelerate_available() \u001b[38;5;129;01mand\u001b[39;00m is_bitsandbytes_available()):\n\u001b[1;32m---> 62\u001b[0m         \u001b[38;5;28;01mraise\u001b[39;00m \u001b[38;5;167;01mImportError\u001b[39;00m(\n\u001b[0;32m     63\u001b[0m             \u001b[38;5;124m\"\u001b[39m\u001b[38;5;124mUsing `bitsandbytes` 8-bit quantization requires Accelerate: `pip install accelerate` \u001b[39m\u001b[38;5;124m\"\u001b[39m\n\u001b[0;32m     64\u001b[0m             \u001b[38;5;124m\"\u001b[39m\u001b[38;5;124mand the latest version of bitsandbytes: `pip install -i https://pypi.org/simple/ bitsandbytes`\u001b[39m\u001b[38;5;124m\"\u001b[39m\n\u001b[0;32m     65\u001b[0m         )\n\u001b[0;32m     67\u001b[0m     \u001b[38;5;28;01mif\u001b[39;00m kwargs\u001b[38;5;241m.\u001b[39mget(\u001b[38;5;124m\"\u001b[39m\u001b[38;5;124mfrom_tf\u001b[39m\u001b[38;5;124m\"\u001b[39m, \u001b[38;5;28;01mFalse\u001b[39;00m) \u001b[38;5;129;01mor\u001b[39;00m kwargs\u001b[38;5;241m.\u001b[39mget(\u001b[38;5;124m\"\u001b[39m\u001b[38;5;124mfrom_flax\u001b[39m\u001b[38;5;124m\"\u001b[39m, \u001b[38;5;28;01mFalse\u001b[39;00m):\n\u001b[0;32m     68\u001b[0m         \u001b[38;5;28;01mraise\u001b[39;00m \u001b[38;5;167;01mValueError\u001b[39;00m(\n\u001b[0;32m     69\u001b[0m             \u001b[38;5;124m\"\u001b[39m\u001b[38;5;124mConverting into 4-bit or 8-bit weights from tf/flax weights is currently not supported, please make\u001b[39m\u001b[38;5;124m\"\u001b[39m\n\u001b[0;32m     70\u001b[0m             \u001b[38;5;124m\"\u001b[39m\u001b[38;5;124m sure the weights are in PyTorch format.\u001b[39m\u001b[38;5;124m\"\u001b[39m\n\u001b[0;32m     71\u001b[0m         )\n",
      "\u001b[1;31mImportError\u001b[0m: Using `bitsandbytes` 8-bit quantization requires Accelerate: `pip install accelerate` and the latest version of bitsandbytes: `pip install -i https://pypi.org/simple/ bitsandbytes`"
     ]
    }
   ],
   "source": [
    "base_model = \"microsoft/phi-2\"\n",
    "new_model = \"phi-2-test-pharma\"\n",
    "\n",
    "tokenizer = AutoTokenizer.from_pretrained(base_model, use_fast=True)\n",
    "tokenizer.pad_token=tokenizer.eos_token\n",
    "tokenizer.padding_side=\"right\"\n",
    "\n",
    "bnb_config = BitsAndBytesConfig(\n",
    "    load_in_4bit=True,\n",
    "    bnb_4bit_quant_type=\"nf4\",\n",
    "    bnb_4bit_compute_dtype=torch.float16,\n",
    "    bnb_4bit_use_double_quant=False,\n",
    ")\n",
    "\n",
    "model = AutoModelForCausalLM.from_pretrained(\n",
    "    base_model,\n",
    "    quantization_config=bnb_config,\n",
    "    # use_flash_attention_2=True, # Phi does not support yet.\n",
    "    trust_remote_code=True,\n",
    "    flash_attn=True,\n",
    "    flash_rotary=True,\n",
    "    fused_dense=True,\n",
    "    low_cpu_mem_usage=True,\n",
    "    device_map={\"\": 0},\n",
    "    revision=\"refs/pr/23\",\n",
    ")\n",
    "\n",
    "model.config.use_cache = False\n",
    "model.config.pretraining_tp = 1\n",
    "\n",
    "model = prepare_model_for_kbit_training(model, use_gradient_checkpointing=True)\n",
    "\n",
    "training_arguments = TrainingArguments(\n",
    "    output_dir=\"./results\",\n",
    "    num_train_epochs=3,\n",
    "    per_device_train_batch_size=2,\n",
    "    gradient_accumulation_steps=32,\n",
    "    evaluation_strategy=\"steps\",\n",
    "    eval_steps=2000,\n",
    "    logging_steps=15,\n",
    "    optim=\"paged_adamw_8bit\",\n",
    "    learning_rate=2e-4,\n",
    "    lr_scheduler_type=\"cosine\",\n",
    "    save_steps=2000,\n",
    "    warmup_ratio=0.05,\n",
    "    weight_decay=0.01,\n",
    "    max_steps=-1\n",
    ")\n",
    "\n",
    "peft_config = LoraConfig(\n",
    "    r=32,\n",
    "    lora_alpha=64,\n",
    "    lora_dropout=0.05,\n",
    "    bias=\"none\",\n",
    "    task_type=\"CAUSAL_LM\",\n",
    "    target_modules= [\"Wqkv\", \"fc1\", \"fc2\" ] # [\"Wqkv\", \"out_proj\", \"fc1\", \"fc2\" ], - 41M params\n",
    "    # modules_to_save=[\"embed_tokens\",\"lm_head\"]\n",
    ")\n",
    "\n",
    "trainer = SFTTrainer(\n",
    "    model=model,\n",
    "    train_dataset=training_dataset,\n",
    "    peft_config=peft_config,\n",
    "    dataset_text_field=\"Text\",\n",
    "    max_seq_length=690,\n",
    "    tokenizer=tokenizer,\n",
    "    args=training_arguments,\n",
    ")"
   ]
  }
 ],
 "metadata": {
  "kernelspec": {
   "display_name": ".venv",
   "language": "python",
   "name": "python3"
  },
  "language_info": {
   "codemirror_mode": {
    "name": "ipython",
    "version": 3
   },
   "file_extension": ".py",
   "mimetype": "text/x-python",
   "name": "python",
   "nbconvert_exporter": "python",
   "pygments_lexer": "ipython3",
   "version": "3.11.9"
  }
 },
 "nbformat": 4,
 "nbformat_minor": 2
}
